{
  "nbformat": 4,
  "nbformat_minor": 0,
  "metadata": {
    "colab": {
      "name": "Untitled18.ipynb",
      "provenance": [],
      "collapsed_sections": [],
      "mount_file_id": "1hXamstUmW8DFWgKvmnkigrUDd0WKStXV",
      "authorship_tag": "ABX9TyNylNnIj/HIxUaWbnmghv6B",
      "include_colab_link": true
    },
    "kernelspec": {
      "name": "python3",
      "display_name": "Python 3"
    },
    "accelerator": "GPU"
  },
  "cells": [
    {
      "cell_type": "markdown",
      "metadata": {
        "id": "view-in-github",
        "colab_type": "text"
      },
      "source": [
        "<a href=\"https://colab.research.google.com/github/Amrit1Gurung/Medical-Speciality-Prediction/blob/master/modeling.ipynb\" target=\"_parent\"><img src=\"https://colab.research.google.com/assets/colab-badge.svg\" alt=\"Open In Colab\"/></a>"
      ]
    },
    {
      "cell_type": "code",
      "metadata": {
        "id": "r3-uI5Qf6YH0"
      },
      "source": [
        "import os\n",
        "import numpy as np  \n",
        "import pandas as pd \n",
        "import seaborn as sns\n",
        "import matplotlib.pyplot as plt\n",
        "%matplotlib inline\n",
        "\n",
        "import nltk\n",
        "import re, string\n",
        "from nltk import word_tokenize, sent_tokenize\n",
        "\n",
        "from imblearn.over_sampling import SMOTE\n",
        "from sklearn.model_selection import train_test_split\n",
        "from sklearn.feature_extraction.text import TfidfVectorizer\n",
        "from sklearn.multiclass import OneVsRestClassifier\n",
        "from sklearn.svm import SVC\n",
        "from sklearn.linear_model import LogisticRegression\n",
        "from sklearn.ensemble import RandomForestClassifier\n",
        "from sklearn.preprocessing import LabelBinarizer,LabelEncoder\n",
        "from sklearn.metrics import accuracy_score, classification_report, confusion_matrix\n",
        "from mlxtend.plotting import plot_confusion_matrix\n",
        "\n",
        "import warnings\n",
        "warnings.filterwarnings(\"ignore\")"
      ],
      "execution_count": 25,
      "outputs": []
    },
    {
      "cell_type": "code",
      "metadata": {
        "id": "XFJEqPV7-JqV",
        "outputId": "a67e82cf-ac52-4c8a-a04e-4cc083c63f1b",
        "colab": {
          "base_uri": "https://localhost:8080/",
          "height": 450
        }
      },
      "source": [
        "data = pd.read_csv('/content/drive/My Drive/programs/Datasets/Medical Transcriptions/preprocessedData.csv')\n",
        "data.head()"
      ],
      "execution_count": 3,
      "outputs": [
        {
          "output_type": "execute_result",
          "data": {
            "text/html": [
              "<div>\n",
              "<style scoped>\n",
              "    .dataframe tbody tr th:only-of-type {\n",
              "        vertical-align: middle;\n",
              "    }\n",
              "\n",
              "    .dataframe tbody tr th {\n",
              "        vertical-align: top;\n",
              "    }\n",
              "\n",
              "    .dataframe thead th {\n",
              "        text-align: right;\n",
              "    }\n",
              "</style>\n",
              "<table border=\"1\" class=\"dataframe\">\n",
              "  <thead>\n",
              "    <tr style=\"text-align: right;\">\n",
              "      <th></th>\n",
              "      <th>Unnamed: 0</th>\n",
              "      <th>description</th>\n",
              "      <th>medical_specialty</th>\n",
              "      <th>sample_name</th>\n",
              "      <th>transcription</th>\n",
              "      <th>keywords</th>\n",
              "      <th>cleaned_transcription</th>\n",
              "    </tr>\n",
              "  </thead>\n",
              "  <tbody>\n",
              "    <tr>\n",
              "      <th>0</th>\n",
              "      <td>0</td>\n",
              "      <td>2-D M-Mode. Doppler.</td>\n",
              "      <td>Cardiovascular / Pulmonary</td>\n",
              "      <td>2-D Echocardiogram - 1</td>\n",
              "      <td>2-D M-MODE: , ,1.  Left atrial enlargement wit...</td>\n",
              "      <td>cardiovascular / pulmonary, 2-d m-mode, dopple...</td>\n",
              "      <td>mode left atrial enlargement left atrial diame...</td>\n",
              "    </tr>\n",
              "    <tr>\n",
              "      <th>1</th>\n",
              "      <td>1</td>\n",
              "      <td>2-D Echocardiogram</td>\n",
              "      <td>Cardiovascular / Pulmonary</td>\n",
              "      <td>2-D Echocardiogram - 2</td>\n",
              "      <td>1.  The left ventricular cavity size and wall ...</td>\n",
              "      <td>cardiovascular / pulmonary, 2-d, doppler, echo...</td>\n",
              "      <td>left ventricular cavity size wall thickness ap...</td>\n",
              "    </tr>\n",
              "    <tr>\n",
              "      <th>2</th>\n",
              "      <td>2</td>\n",
              "      <td>2-D Echocardiogram</td>\n",
              "      <td>Cardiovascular / Pulmonary</td>\n",
              "      <td>2-D Echocardiogram - 3</td>\n",
              "      <td>2-D ECHOCARDIOGRAM,Multiple views of the heart...</td>\n",
              "      <td>cardiovascular / pulmonary, 2-d echocardiogram...</td>\n",
              "      <td>echocardiogram multiple views heart great vess...</td>\n",
              "    </tr>\n",
              "    <tr>\n",
              "      <th>3</th>\n",
              "      <td>3</td>\n",
              "      <td>Echocardiogram and Doppler</td>\n",
              "      <td>Cardiovascular / Pulmonary</td>\n",
              "      <td>2-D Echocardiogram - 4</td>\n",
              "      <td>DESCRIPTION:,1.  Normal cardiac chambers size....</td>\n",
              "      <td>cardiovascular / pulmonary, ejection fraction,...</td>\n",
              "      <td>description normal cardiac chambers size norma...</td>\n",
              "    </tr>\n",
              "    <tr>\n",
              "      <th>4</th>\n",
              "      <td>4</td>\n",
              "      <td>Normal left ventricle, moderate biatrial enla...</td>\n",
              "      <td>Cardiovascular / Pulmonary</td>\n",
              "      <td>2-D Doppler</td>\n",
              "      <td>2-D STUDY,1. Mild aortic stenosis, widely calc...</td>\n",
              "      <td>cardiovascular / pulmonary, 2-d study, doppler...</td>\n",
              "      <td>study mild aortic stenosis widely calcified mi...</td>\n",
              "    </tr>\n",
              "  </tbody>\n",
              "</table>\n",
              "</div>"
            ],
            "text/plain": [
              "   Unnamed: 0  ...                              cleaned_transcription\n",
              "0           0  ...  mode left atrial enlargement left atrial diame...\n",
              "1           1  ...  left ventricular cavity size wall thickness ap...\n",
              "2           2  ...  echocardiogram multiple views heart great vess...\n",
              "3           3  ...  description normal cardiac chambers size norma...\n",
              "4           4  ...  study mild aortic stenosis widely calcified mi...\n",
              "\n",
              "[5 rows x 7 columns]"
            ]
          },
          "metadata": {
            "tags": []
          },
          "execution_count": 3
        }
      ]
    },
    {
      "cell_type": "code",
      "metadata": {
        "id": "b0C1cQKIES05",
        "outputId": "14cd668d-34ef-4f50-fd1d-054df9aeabe0",
        "colab": {
          "base_uri": "https://localhost:8080/",
          "height": 423
        }
      },
      "source": [
        "data.medical_specialty.value_counts().plot(kind='bar')"
      ],
      "execution_count": 4,
      "outputs": [
        {
          "output_type": "execute_result",
          "data": {
            "text/plain": [
              "<matplotlib.axes._subplots.AxesSubplot at 0x7f0eef5846d8>"
            ]
          },
          "metadata": {
            "tags": []
          },
          "execution_count": 4
        },
        {
          "output_type": "display_data",
          "data": {
            "image/png": "[encoded data removed]",
            "text/plain": [
              "<Figure size 432x288 with 1 Axes>"
            ]
          },
          "metadata": {
            "tags": [],
            "needs_background": "light"
          }
        }
      ]
    },
    {
      "cell_type": "markdown",
      "metadata": {
        "id": "8rkRWvpD5HTv"
      },
      "source": [
        "class imbalance seen\n"
      ]
    },
    {
      "cell_type": "code",
      "metadata": {
        "id": "XsIAkv5q-aVu"
      },
      "source": [
        "# creating feature vectors and target vector\n",
        "transcripts = data.cleaned_transcription.values\n",
        "Y = data.medical_specialty.values"
      ],
      "execution_count": 5,
      "outputs": []
    },
    {
      "cell_type": "code",
      "metadata": {
        "id": "iYnhrckK--Bf"
      },
      "source": [
        "# label encode our categorical target variable\n",
        "le = LabelEncoder()\n",
        "Y = le.fit_transform(Y)"
      ],
      "execution_count": 6,
      "outputs": []
    },
    {
      "cell_type": "code",
      "metadata": {
        "id": "pNl2nUoA1jik",
        "outputId": "6ec124ac-ed63-47c1-8a39-ef78044cbfa8",
        "colab": {
          "base_uri": "https://localhost:8080/",
          "height": 34
        }
      },
      "source": [
        "Y"
      ],
      "execution_count": 7,
      "outputs": [
        {
          "output_type": "execute_result",
          "data": {
            "text/plain": [
              "array([0, 0, 0, ..., 0, 0, 0])"
            ]
          },
          "metadata": {
            "tags": []
          },
          "execution_count": 7
        }
      ]
    },
    {
      "cell_type": "code",
      "metadata": {
        "id": "e0zgmQgYmBaH"
      },
      "source": [
        "# function to create document-term matrix\n",
        "def create_vec(strings):\n",
        "  #tf = TfidfVectorizer(analyzer=\"char_wb\", ngram_range=(1,3))\n",
        "  tf = TfidfVectorizer(max_features = 6000, ngram_range=(1,3), min_df=5, max_df=0.9)\n",
        "  tf.fit(strings)\n",
        "  X = tf.fit_transform(strings)\n",
        "  return X\n",
        "vecs = create_vec(transcripts)"
      ],
      "execution_count": 8,
      "outputs": []
    },
    {
      "cell_type": "code",
      "metadata": {
        "id": "RM0F71DbmBV5",
        "outputId": "ccce1cf9-9765-4715-8c66-95ed0fb781a5",
        "colab": {
          "base_uri": "https://localhost:8080/",
          "height": 50
        }
      },
      "source": [
        "vecs"
      ],
      "execution_count": 9,
      "outputs": [
        {
          "output_type": "execute_result",
          "data": {
            "text/plain": [
              "<3630x6000 sparse matrix of type '<class 'numpy.float64'>'\n",
              "\twith 721484 stored elements in Compressed Sparse Row format>"
            ]
          },
          "metadata": {
            "tags": []
          },
          "execution_count": 9
        }
      ]
    },
    {
      "cell_type": "code",
      "metadata": {
        "id": "RwwMbDSbn1TM"
      },
      "source": [
        "# applying SMOTE oversampling method to upsampe minority class labels\n",
        "sm = SMOTE()\n",
        "x_res, y_res = sm.fit_resample(vecs,Y)"
      ],
      "execution_count": 10,
      "outputs": []
    },
    {
      "cell_type": "code",
      "metadata": {
        "id": "hcvDEE2PpK4i",
        "outputId": "9ca6fd98-d00d-47d5-8f89-d4a80cbe1e29",
        "colab": {
          "base_uri": "https://localhost:8080/",
          "height": 195
        }
      },
      "source": [
        "df = pd.DataFrame({\"class\":list(y_res)})\n",
        "df.head()"
      ],
      "execution_count": 13,
      "outputs": [
        {
          "output_type": "execute_result",
          "data": {
            "text/html": [
              "<div>\n",
              "<style scoped>\n",
              "    .dataframe tbody tr th:only-of-type {\n",
              "        vertical-align: middle;\n",
              "    }\n",
              "\n",
              "    .dataframe tbody tr th {\n",
              "        vertical-align: top;\n",
              "    }\n",
              "\n",
              "    .dataframe thead th {\n",
              "        text-align: right;\n",
              "    }\n",
              "</style>\n",
              "<table border=\"1\" class=\"dataframe\">\n",
              "  <thead>\n",
              "    <tr style=\"text-align: right;\">\n",
              "      <th></th>\n",
              "      <th>class</th>\n",
              "    </tr>\n",
              "  </thead>\n",
              "  <tbody>\n",
              "    <tr>\n",
              "      <th>0</th>\n",
              "      <td>0</td>\n",
              "    </tr>\n",
              "    <tr>\n",
              "      <th>1</th>\n",
              "      <td>0</td>\n",
              "    </tr>\n",
              "    <tr>\n",
              "      <th>2</th>\n",
              "      <td>0</td>\n",
              "    </tr>\n",
              "    <tr>\n",
              "      <th>3</th>\n",
              "      <td>0</td>\n",
              "    </tr>\n",
              "    <tr>\n",
              "      <th>4</th>\n",
              "      <td>0</td>\n",
              "    </tr>\n",
              "  </tbody>\n",
              "</table>\n",
              "</div>"
            ],
            "text/plain": [
              "   class\n",
              "0      0\n",
              "1      0\n",
              "2      0\n",
              "3      0\n",
              "4      0"
            ]
          },
          "metadata": {
            "tags": []
          },
          "execution_count": 13
        }
      ]
    },
    {
      "cell_type": "code",
      "metadata": {
        "id": "bXYxEUVApK1O",
        "outputId": "1e87f0fc-e21f-4b76-ce09-ef60e4ccdc7c",
        "colab": {
          "base_uri": "https://localhost:8080/",
          "height": 202
        }
      },
      "source": [
        "df['class'].value_counts()"
      ],
      "execution_count": 14,
      "outputs": [
        {
          "output_type": "execute_result",
          "data": {
            "text/plain": [
              "7    1088\n",
              "6    1088\n",
              "5    1088\n",
              "4    1088\n",
              "3    1088\n",
              "2    1088\n",
              "9    1088\n",
              "1    1088\n",
              "8    1088\n",
              "0    1088\n",
              "Name: class, dtype: int64"
            ]
          },
          "metadata": {
            "tags": []
          },
          "execution_count": 14
        }
      ]
    },
    {
      "cell_type": "code",
      "metadata": {
        "id": "8Rn1pxlf_TgL"
      },
      "source": [
        "# Splitting data into train:test by 80:20\n",
        "x_train, x_val, y_train, y_val = train_test_split(x_res, y_res, test_size=0.2, random_state = 42)"
      ],
      "execution_count": 15,
      "outputs": []
    },
    {
      "cell_type": "code",
      "metadata": {
        "id": "JlDTNvaX_t6I",
        "outputId": "86a2642f-01b3-41dd-f4d3-f89d12313212",
        "colab": {
          "base_uri": "https://localhost:8080/",
          "height": 67
        }
      },
      "source": [
        "x_train = x_train.toarray()\n",
        "print('\\nTraining features shape: ',x_train.shape)\n",
        "\n",
        "x_val =x_val.toarray()\n",
        "print('Test features shape:     ',x_val.shape)"
      ],
      "execution_count": 17,
      "outputs": [
        {
          "output_type": "stream",
          "text": [
            "\n",
            "Training features shape:  (8704, 6000)\n",
            "Test features shape:      (2176, 6000)\n"
          ],
          "name": "stdout"
        }
      ]
    },
    {
      "cell_type": "code",
      "metadata": {
        "id": "HzqvLNjhBf65"
      },
      "source": [
        "# a function to train and evaluate model\n",
        "def train_model(model, x_train,x_val,y_train,y_val):\n",
        "  model.fit(x_train,y_train)\n",
        "  prediction = model.predict(x_val)\n",
        "  print('Accuracy',round(accuracy_score(prediction, y_val)*100, 0),'%')\n",
        "  return model"
      ],
      "execution_count": 18,
      "outputs": []
    },
    {
      "cell_type": "markdown",
      "metadata": {
        "id": "KmsiOiz5mpOH"
      },
      "source": [
        "### Logistic Regression"
      ]
    },
    {
      "cell_type": "code",
      "metadata": {
        "id": "R7CaNaPtBfto",
        "outputId": "b9181a29-c166-4854-f7aa-1c1772dc4026",
        "colab": {
          "base_uri": "https://localhost:8080/",
          "height": 34
        }
      },
      "source": [
        "classifier = LogisticRegression(multi_class='multinomial', solver='sag')\n",
        "logreg = train_model(classifier, x_train, x_val, y_train, y_val)"
      ],
      "execution_count": 19,
      "outputs": [
        {
          "output_type": "stream",
          "text": [
            "Accuracy 69.0 %\n"
          ],
          "name": "stdout"
        }
      ]
    },
    {
      "cell_type": "markdown",
      "metadata": {
        "id": "HPVLdT8Sm2Wk"
      },
      "source": [
        "### Support Vector Machine"
      ]
    },
    {
      "cell_type": "code",
      "metadata": {
        "id": "DVA9NFYe5T-1",
        "outputId": "cf5d7725-4080-4000-a1b3-092bb95287cf",
        "colab": {
          "base_uri": "https://localhost:8080/",
          "height": 34
        }
      },
      "source": [
        "classifier = SVC(C = 2.5, kernel = 'linear', gamma='auto', random_state=42)\n",
        "svm = train_model(classifier, x_train, x_val, y_train, y_val)"
      ],
      "execution_count": 20,
      "outputs": [
        {
          "output_type": "stream",
          "text": [
            "Accuracy 70.0 %\n"
          ],
          "name": "stdout"
        }
      ]
    },
    {
      "cell_type": "markdown",
      "metadata": {
        "id": "TJO9yPv4nK4f"
      },
      "source": [
        "### Random Forest Classifier"
      ]
    },
    {
      "cell_type": "code",
      "metadata": {
        "id": "7kq17qD85T7M",
        "outputId": "cd8a09b2-0d23-45d2-abe1-c98a3afa87e2",
        "colab": {
          "base_uri": "https://localhost:8080/",
          "height": 34
        }
      },
      "source": [
        "classifier = RandomForestClassifier(n_estimators = 500, min_samples_split = 10, random_state = 42)\n",
        "rf = train_model(classifier, x_train, x_val, y_train, y_val)"
      ],
      "execution_count": 22,
      "outputs": [
        {
          "output_type": "stream",
          "text": [
            "Accuracy 64.0 %\n"
          ],
          "name": "stdout"
        }
      ]
    },
    {
      "cell_type": "markdown",
      "metadata": {
        "id": "KEuq-AoD1whl"
      },
      "source": [
        "**Among the three classifier above, SVM have a highest accuracy so we shall use it to draw out the classification reports....**"
      ]
    },
    {
      "cell_type": "code",
      "metadata": {
        "id": "OHK8pjNCh4VQ",
        "outputId": "feca5087-326b-4649-f20f-a1fbbb4e8500",
        "colab": {
          "base_uri": "https://localhost:8080/",
          "height": 319
        }
      },
      "source": [
        "prediction = svm.predict(x_val)\n",
        "print('Classification report for Support Vector Machine: \\n', classification_report(prediction,y_val,target_names=list(le.classes_)))"
      ],
      "execution_count": 24,
      "outputs": [
        {
          "output_type": "stream",
          "text": [
            "Classification report for Support Vector Machine: \n",
            "                                 precision    recall  f1-score   support\n",
            "\n",
            "    Cardiovascular / Pulmonary       0.73      0.66      0.69       261\n",
            "    Consult - History and Phy.       0.33      0.59      0.42       116\n",
            "              Gastroenterology       0.93      0.76      0.84       240\n",
            "              General Medicine       0.74      0.67      0.70       231\n",
            "                     Neurology       0.77      0.64      0.70       255\n",
            "       Obstetrics / Gynecology       0.99      0.79      0.88       260\n",
            "                    Orthopedic       0.77      0.69      0.73       242\n",
            "                     Radiology       0.56      0.56      0.56       235\n",
            " SOAP / Chart / Progress Notes       0.91      0.80      0.85       264\n",
            "                       Surgery       0.29      0.88      0.43        72\n",
            "\n",
            "                      accuracy                           0.70      2176\n",
            "                     macro avg       0.70      0.70      0.68      2176\n",
            "                  weighted avg       0.76      0.70      0.72      2176\n",
            "\n"
          ],
          "name": "stdout"
        }
      ]
    },
    {
      "cell_type": "code",
      "metadata": {
        "id": "MWM-bUelh4Sz",
        "outputId": "29fddb76-4589-42d7-e0b8-d66b16e10c1a",
        "colab": {
          "base_uri": "https://localhost:8080/",
          "height": 580
        }
      },
      "source": [
        "# CREATING THE CONFUSION MATRIX\n",
        "fig, ax = plot_confusion_matrix(conf_mat = confusion_matrix(y_val, prediction),\n",
        "                                colorbar = True,\n",
        "                                show_absolute = False,\n",
        "                                show_normed = True,\n",
        "                                figsize = (10,10))\n",
        "plt.title(\"SVM confusion matrix\", fontsize=14)\n",
        "plt.show()"
      ],
      "execution_count": 26,
      "outputs": [
        {
          "output_type": "display_data",
          "data": {
            "image/png": "[encoded data removed]",
            "text/plain": [
              "<Figure size 720x720 with 2 Axes>"
            ]
          },
          "metadata": {
            "tags": [],
            "needs_background": "light"
          }
        }
      ]
    },
    {
      "cell_type": "code",
      "metadata": {
        "id": "U_eMOQAVh4Pv"
      },
      "source": [
        ""
      ],
      "execution_count": null,
      "outputs": []
    }
  ]
}